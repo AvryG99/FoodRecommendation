{
 "cells": [
  {
   "cell_type": "code",
   "execution_count": 11,
   "metadata": {},
   "outputs": [],
   "source": [
    "from tensorflow.keras.models import load_model \n",
    "import pandas as pd \n",
    "import numpy as np\n",
    "from tensorflow.keras.preprocessing.text import Tokenizer\n",
    "from tensorflow.keras.preprocessing.sequence import pad_sequences\n",
    "\n",
    "np.random.seed(42) "
   ]
  },
  {
   "cell_type": "code",
   "execution_count": 12,
   "metadata": {},
   "outputs": [],
   "source": [
    "model = load_model('model.h5')"
   ]
  },
  {
   "cell_type": "code",
   "execution_count": 13,
   "metadata": {},
   "outputs": [],
   "source": [
    "df = pd.read_csv('D:\\proand\\data\\ingredient.csv')"
   ]
  },
  {
   "cell_type": "code",
   "execution_count": 34,
   "metadata": {},
   "outputs": [],
   "source": [
    "tokenizer = Tokenizer()\n",
    "tokenizer.fit_on_texts(df['ingredients'])\n",
    "encoded_ingredients = tokenizer.texts_to_sequences(df['ingredients'])\n",
    "max_length = max([len(seq) for seq in encoded_ingredients])\n",
    "padded_ingredients = pad_sequences(encoded_ingredients, maxlen=max_length, padding='post')"
   ]
  },
  {
   "cell_type": "code",
   "execution_count": 72,
   "metadata": {},
   "outputs": [],
   "source": [
    "def calculate_matching_percentage(user_input_ingredients, recipe_ingredients):\n",
    "    ''' \n",
    "    Calculate the matching percentage of the ingredients lists between the user inputs and recipe\n",
    "    '''\n",
    "    user_ingredients = set(user_input_ingredients.split(', '))\n",
    "    recipe_ingredients = set(recipe_ingredients.split(', '))\n",
    "    matching_ingredients = user_ingredients.intersection(recipe_ingredients)\n",
    "    matching_percentage = len(matching_ingredients) / len(recipe_ingredients) * 100\n",
    "    return matching_percentage\n",
    "\n",
    "\n",
    "# Function to recommend dishes based on user input\n",
    "def predict(user_input, dataset, threshold=0.4, top_n=10):\n",
    "    # Tokenize and pad user input\n",
    "    encoded_input = tokenizer.texts_to_sequences([user_input])\n",
    "    padded_input = pad_sequences(encoded_input, maxlen=max_length, padding='post')\n",
    "    \n",
    "    # Repeat the user input to match the number of samples in the dataset\n",
    "    repeated_padded_input = np.repeat(padded_input, len(dataset), axis=0)\n",
    "    \n",
    "    # Predictions\n",
    "    predictions = model.predict([repeated_padded_input, np.zeros((repeated_padded_input.shape[0], 1)), padded_ingredients])\n",
    "    \n",
    "    # Calculate matching percentage for each dish\n",
    "    matching_percentages = []\n",
    "    for i, (_, row) in enumerate(dataset.iterrows()):\n",
    "        matching_percentage = calculate_matching_percentage(user_input, row['ingredients'])\n",
    "        if matching_percentage >= threshold:\n",
    "            matching_percentages.append((i, matching_percentage, predictions[i][1]))  # We assume rating is the second element of predictions\n",
    "    \n",
    "    # Sort by matching percentage and rating\n",
    "    matching_percentages.sort(key=lambda x: (x[1], x[2]), reverse=True)\n",
    "    score_list = []\n",
    "    for i in matching_percentages[:top_n]:\n",
    "        score_list.append((round(i[1])))\n",
    "    # Select top dishes\n",
    "    recommended_dishes = []\n",
    "    for index, _, _ in matching_percentages[:top_n]:\n",
    "        recommended_dishes.append(dataset.iloc[index])\n",
    "    \n",
    "    return recommended_dishes, score_list\n",
    "\n"
   ]
  },
  {
   "cell_type": "code",
   "execution_count": 73,
   "metadata": {},
   "outputs": [
    {
     "name": "stdout",
     "output_type": "stream",
     "text": [
      "6/6 [==============================] - 0s 6ms/step\n"
     ]
    }
   ],
   "source": [
    "user_input = 'broil, dairy free, meat, peanut free, pork, pork rib, soy free'\n",
    "names, scores = predict(user_input, df)"
   ]
  },
  {
   "cell_type": "code",
   "execution_count": 76,
   "metadata": {},
   "outputs": [],
   "source": [
    "name_list = []\n",
    "rating_list = []\n",
    "\n",
    "for i in names:\n",
    "    name_list.append(i[0])\n",
    "    rating_list.append(i[1])\n",
    "\n",
    "result = pd.DataFrame()\n",
    "result['Name'] = name_list\n",
    "result['Rating'] = rating_list\n",
    "result['Matching_Percentage'] = scores\n"
   ]
  },
  {
   "cell_type": "code",
   "execution_count": 77,
   "metadata": {},
   "outputs": [
    {
     "data": {
      "text/html": [
       "<div>\n",
       "<style scoped>\n",
       "    .dataframe tbody tr th:only-of-type {\n",
       "        vertical-align: middle;\n",
       "    }\n",
       "\n",
       "    .dataframe tbody tr th {\n",
       "        vertical-align: top;\n",
       "    }\n",
       "\n",
       "    .dataframe thead th {\n",
       "        text-align: right;\n",
       "    }\n",
       "</style>\n",
       "<table border=\"1\" class=\"dataframe\">\n",
       "  <thead>\n",
       "    <tr style=\"text-align: right;\">\n",
       "      <th></th>\n",
       "      <th>Name</th>\n",
       "      <th>Rating</th>\n",
       "      <th>Matching_Percentage</th>\n",
       "    </tr>\n",
       "  </thead>\n",
       "  <tbody>\n",
       "    <tr>\n",
       "      <th>0</th>\n",
       "      <td>Sweet-and-Sour Balsamic-Glazed Spareribs</td>\n",
       "      <td>4.375</td>\n",
       "      <td>78</td>\n",
       "    </tr>\n",
       "    <tr>\n",
       "      <th>1</th>\n",
       "      <td>Meatballs: The Spuntino Way</td>\n",
       "      <td>4.375</td>\n",
       "      <td>60</td>\n",
       "    </tr>\n",
       "    <tr>\n",
       "      <th>2</th>\n",
       "      <td>Breakfast Banh Mi Sandwich with Eggs and Sausage</td>\n",
       "      <td>4.375</td>\n",
       "      <td>50</td>\n",
       "    </tr>\n",
       "    <tr>\n",
       "      <th>3</th>\n",
       "      <td>Fluffy Cathead Biscuits With Honey Butter</td>\n",
       "      <td>5.000</td>\n",
       "      <td>50</td>\n",
       "    </tr>\n",
       "    <tr>\n",
       "      <th>4</th>\n",
       "      <td>Pork Sausage with Braised Purple Cabbage and A...</td>\n",
       "      <td>4.375</td>\n",
       "      <td>38</td>\n",
       "    </tr>\n",
       "    <tr>\n",
       "      <th>5</th>\n",
       "      <td>Sweet and Sour Pork</td>\n",
       "      <td>3.125</td>\n",
       "      <td>33</td>\n",
       "    </tr>\n",
       "    <tr>\n",
       "      <th>6</th>\n",
       "      <td>Lamb Bacon</td>\n",
       "      <td>3.750</td>\n",
       "      <td>33</td>\n",
       "    </tr>\n",
       "    <tr>\n",
       "      <th>7</th>\n",
       "      <td>Croque Madame Casserole With Ham and GruyAre</td>\n",
       "      <td>4.375</td>\n",
       "      <td>25</td>\n",
       "    </tr>\n",
       "    <tr>\n",
       "      <th>8</th>\n",
       "      <td>Lobster Fra Diavolo</td>\n",
       "      <td>3.750</td>\n",
       "      <td>25</td>\n",
       "    </tr>\n",
       "    <tr>\n",
       "      <th>9</th>\n",
       "      <td>Lemon-Blueberry Poke Cake</td>\n",
       "      <td>3.750</td>\n",
       "      <td>22</td>\n",
       "    </tr>\n",
       "  </tbody>\n",
       "</table>\n",
       "</div>"
      ],
      "text/plain": [
       "                                                Name  Rating  \\\n",
       "0          Sweet-and-Sour Balsamic-Glazed Spareribs    4.375   \n",
       "1                       Meatballs: The Spuntino Way    4.375   \n",
       "2  Breakfast Banh Mi Sandwich with Eggs and Sausage    4.375   \n",
       "3         Fluffy Cathead Biscuits With Honey Butter    5.000   \n",
       "4  Pork Sausage with Braised Purple Cabbage and A...   4.375   \n",
       "5                               Sweet and Sour Pork    3.125   \n",
       "6                                        Lamb Bacon    3.750   \n",
       "7      Croque Madame Casserole With Ham and GruyAre    4.375   \n",
       "8                               Lobster Fra Diavolo    3.750   \n",
       "9                         Lemon-Blueberry Poke Cake    3.750   \n",
       "\n",
       "   Matching_Percentage  \n",
       "0                   78  \n",
       "1                   60  \n",
       "2                   50  \n",
       "3                   50  \n",
       "4                   38  \n",
       "5                   33  \n",
       "6                   33  \n",
       "7                   25  \n",
       "8                   25  \n",
       "9                   22  "
      ]
     },
     "execution_count": 77,
     "metadata": {},
     "output_type": "execute_result"
    }
   ],
   "source": [
    "result"
   ]
  },
  {
   "cell_type": "code",
   "execution_count": null,
   "metadata": {},
   "outputs": [],
   "source": []
  }
 ],
 "metadata": {
  "kernelspec": {
   "display_name": "env",
   "language": "python",
   "name": "python3"
  },
  "language_info": {
   "codemirror_mode": {
    "name": "ipython",
    "version": 3
   },
   "file_extension": ".py",
   "mimetype": "text/x-python",
   "name": "python",
   "nbconvert_exporter": "python",
   "pygments_lexer": "ipython3",
   "version": "3.10.11"
  }
 },
 "nbformat": 4,
 "nbformat_minor": 2
}
